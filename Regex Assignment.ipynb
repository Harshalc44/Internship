{
 "cells": [
  {
   "cell_type": "code",
   "execution_count": null,
   "id": "8c9fc9ba",
   "metadata": {},
   "outputs": [],
   "source": [
    "#1"
   ]
  },
  {
   "cell_type": "code",
   "execution_count": null,
   "id": "aa5482b5",
   "metadata": {},
   "outputs": [],
   "source": [
    "#2"
   ]
  },
  {
   "cell_type": "code",
   "execution_count": 1,
   "id": "b101e364",
   "metadata": {},
   "outputs": [
    {
     "data": {
      "text/plain": [
       "regex.Regex('\\x08\\\\w{4,}\\x08', flags=regex.V0)"
      ]
     },
     "execution_count": 1,
     "metadata": {},
     "output_type": "execute_result"
    }
   ],
   "source": [
    "#3\n",
    "import regex as re\n",
    "\n",
    "re.compile('\\b\\w{4,}\\b')"
   ]
  },
  {
   "cell_type": "code",
   "execution_count": null,
   "id": "dc7b9f1d",
   "metadata": {},
   "outputs": [],
   "source": [
    "#4\n",
    "\n",
    "re.compile('\\b\\w{3,4,5}\\b')"
   ]
  },
  {
   "cell_type": "code",
   "execution_count": null,
   "id": "42d2fcca",
   "metadata": {},
   "outputs": [],
   "source": [
    "#5\n"
   ]
  },
  {
   "cell_type": "code",
   "execution_count": null,
   "id": "614fb9f3",
   "metadata": {},
   "outputs": [],
   "source": [
    "#6\n"
   ]
  },
  {
   "cell_type": "code",
   "execution_count": 7,
   "id": "2f4fda3f",
   "metadata": {},
   "outputs": [
    {
     "name": "stdout",
     "output_type": "stream",
     "text": [
      "['Importance', 'Of', 'Regular', 'Expression', 'In', 'Python']\n"
     ]
    }
   ],
   "source": [
    "#7\n",
    "input_string = 'ImportanceOfRegularExpressionInPython'\n",
    "\n",
    "uppercase_letters = re.findall('[A-Z][^A-Z]*', input_string)\n",
    "\n",
    "print(uppercase_letters)"
   ]
  },
  {
   "cell_type": "code",
   "execution_count": 21,
   "id": "4eaa48c4",
   "metadata": {},
   "outputs": [
    {
     "name": "stdout",
     "output_type": "stream",
     "text": [
      "Regular Expression 1Is An 2Important Topic 3In Python\n"
     ]
    }
   ],
   "source": [
    "#8\n",
    "import re\n",
    "\n",
    "input_string = \"RegularExpression1IsAn2ImportantTopic3InPython\"\n",
    "\n",
    "\n",
    "formatted_string = re.sub(r'([A-Za-z]+)(\\d+)', r'\\1 \\2', input_string)\n",
    "\n",
    "\n",
    "formatted_string = re.sub(r'([a-z])([A-Z])', r'\\1 \\2', formatted_string)\n",
    "\n",
    "print(formatted_string)\n"
   ]
  },
  {
   "cell_type": "code",
   "execution_count": 16,
   "id": "dd9ec915",
   "metadata": {},
   "outputs": [],
   "source": [
    "#9"
   ]
  },
  {
   "cell_type": "code",
   "execution_count": null,
   "id": "693d8762",
   "metadata": {},
   "outputs": [],
   "source": [
    "#10\n"
   ]
  },
  {
   "cell_type": "code",
   "execution_count": null,
   "id": "c71dfa05",
   "metadata": {},
   "outputs": [],
   "source": [
    "#11\n",
    "\n",
    "def match_string(target_string):\n",
    "    pattern = '[A-Za-z0-9_]+$'\n",
    "    if re.match(pattern,target_string):\n",
    "        return True\n",
    "    else:\n",
    "        return False"
   ]
  },
  {
   "cell_type": "code",
   "execution_count": null,
   "id": "e036ba8e",
   "metadata": {},
   "outputs": [],
   "source": [
    "#12\n",
    "def match_num(string):\n",
    "    text = re.compile(\"^Number\")\n",
    "    if text.match(string):\n",
    "        return True\n",
    "    else:\n",
    "        return False"
   ]
  },
  {
   "cell_type": "code",
   "execution_count": null,
   "id": "609b29b0",
   "metadata": {},
   "outputs": [],
   "source": [
    "#13\n",
    "string = re.sub('\\.[0]*', '.', ip_address)\n",
    "print(string)"
   ]
  },
  {
   "cell_type": "code",
   "execution_count": 6,
   "id": "6d0f724c",
   "metadata": {},
   "outputs": [
    {
     "name": "stdout",
     "output_type": "stream",
     "text": [
      "<regex.Match object; span=(3, 19), match='August 15th 1947'>\n"
     ]
    }
   ],
   "source": [
    "#14\n",
    "target_string = 'On August 15th 1947 that India was declared independent from British colonialism, and the reins of control were handed over to the leaders of the Country.'\n",
    "\n",
    "output = re.search(r'August 15th 1947',target_string)\n",
    "\n",
    "print(output)"
   ]
  },
  {
   "cell_type": "code",
   "execution_count": null,
   "id": "ddff1dbb",
   "metadata": {},
   "outputs": [],
   "source": [
    "#15\n"
   ]
  },
  {
   "cell_type": "code",
   "execution_count": 22,
   "id": "c90face5",
   "metadata": {},
   "outputs": [],
   "source": [
    "#16\n"
   ]
  },
  {
   "cell_type": "code",
   "execution_count": 36,
   "id": "9008dd77",
   "metadata": {},
   "outputs": [
    {
     "name": "stdout",
     "output_type": "stream",
     "text": [
      "Found \"exercises\"\n",
      "Found \"exercises\"\n",
      "Found \"exercises\"\n"
     ]
    }
   ],
   "source": [
    "#17\n",
    "\n",
    "string = 'Python exercises, PHP exercises, C# exercises'\n",
    "pattern = 'exercises'\n",
    "for match in re.findall(pattern, string):\n",
    "    print('Found \"%s\"' % match)"
   ]
  },
  {
   "cell_type": "code",
   "execution_count": 24,
   "id": "635369e9",
   "metadata": {},
   "outputs": [],
   "source": [
    "#18"
   ]
  },
  {
   "cell_type": "code",
   "execution_count": 33,
   "id": "8c448378",
   "metadata": {},
   "outputs": [
    {
     "name": "stdout",
     "output_type": "stream",
     "text": [
      "Original date in YYY-MM-DD Format:  2023-08-26\n",
      "New date in DD-MM-YYYY Format:  26-08-2023\n"
     ]
    }
   ],
   "source": [
    "#19\n",
    "def change_date_format(dt):\n",
    "        return re.sub(r'(\\d{4})-(\\d{1,2})-(\\d{1,2})', '\\\\3-\\\\2-\\\\1', dt)\n",
    "dt1 = \"2023-08-02\"\n",
    "print(\"Original date in YYY-MM-DD Format: \",dt1)\n",
    "print(\"New date in DD-MM-YYYY Format: \",change_date_format(dt1))"
   ]
  },
  {
   "cell_type": "code",
   "execution_count": 26,
   "id": "77640b24",
   "metadata": {},
   "outputs": [],
   "source": [
    "#20"
   ]
  },
  {
   "cell_type": "code",
   "execution_count": 27,
   "id": "048fe18f",
   "metadata": {},
   "outputs": [],
   "source": [
    "#21"
   ]
  },
  {
   "cell_type": "code",
   "execution_count": 28,
   "id": "cc9ab2e7",
   "metadata": {},
   "outputs": [],
   "source": [
    "#22"
   ]
  },
  {
   "cell_type": "code",
   "execution_count": 2,
   "id": "6316e507",
   "metadata": {},
   "outputs": [
    {
     "name": "stdout",
     "output_type": "stream",
     "text": [
      "['Regular', 'Expression', 'Is', 'An', 'Important', 'Topic', 'In', 'Python']\n"
     ]
    }
   ],
   "source": [
    "#23\n",
    "\n",
    "target_string = 'RegularExpressionIsAnImportantTopicInPython'\n",
    "output = re.findall('[A-Z][a-z]*',target_string)\n",
    "print(output)"
   ]
  },
  {
   "cell_type": "code",
   "execution_count": 30,
   "id": "9a390848",
   "metadata": {},
   "outputs": [],
   "source": [
    "#24\n",
    "\n",
    "re.search('[A-Z]+[a-z]+$')"
   ]
  },
  {
   "cell_type": "code",
   "execution_count": 31,
   "id": "019be6bb",
   "metadata": {},
   "outputs": [],
   "source": [
    "#25\n"
   ]
  },
  {
   "cell_type": "code",
   "execution_count": 37,
   "id": "b7c3769f",
   "metadata": {},
   "outputs": [],
   "source": [
    "#26\n",
    "re.match('[a-zA-Z0-9]+$')"
   ]
  },
  {
   "cell_type": "code",
   "execution_count": 38,
   "id": "a89a8241",
   "metadata": {},
   "outputs": [],
   "source": [
    "#27"
   ]
  },
  {
   "cell_type": "code",
   "execution_count": 39,
   "id": "84816916",
   "metadata": {},
   "outputs": [],
   "source": [
    "#28"
   ]
  },
  {
   "cell_type": "code",
   "execution_count": 40,
   "id": "4cb0b980",
   "metadata": {},
   "outputs": [],
   "source": [
    "#29"
   ]
  },
  {
   "cell_type": "code",
   "execution_count": null,
   "id": "d7b04954",
   "metadata": {},
   "outputs": [],
   "source": [
    "#30"
   ]
  }
 ],
 "metadata": {
  "kernelspec": {
   "display_name": "Python 3 (ipykernel)",
   "language": "python",
   "name": "python3"
  },
  "language_info": {
   "codemirror_mode": {
    "name": "ipython",
    "version": 3
   },
   "file_extension": ".py",
   "mimetype": "text/x-python",
   "name": "python",
   "nbconvert_exporter": "python",
   "pygments_lexer": "ipython3",
   "version": "3.9.13"
  }
 },
 "nbformat": 4,
 "nbformat_minor": 5
}
